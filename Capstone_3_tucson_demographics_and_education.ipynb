{
  "nbformat": 4,
  "nbformat_minor": 0,
  "metadata": {
    "colab": {
      "name": "Capstone 3 - tucson_demographics_and_education.ipynb",
      "provenance": [],
      "collapsed_sections": [],
      "authorship_tag": "ABX9TyMuEuv9sve4J/wxV8RDwA/I",
      "include_colab_link": true
    },
    "kernelspec": {
      "name": "python3",
      "display_name": "Python 3"
    }
  },
  "cells": [
    {
      "cell_type": "markdown",
      "metadata": {
        "id": "view-in-github",
        "colab_type": "text"
      },
      "source": [
        "<a href=\"https://colab.research.google.com/github/ElindRase/Capstone_Ethnicity_Education_Geographic_Area/blob/main/Capstone_3_tucson_demographics_and_education.ipynb\" target=\"_parent\"><img src=\"https://colab.research.google.com/assets/colab-badge.svg\" alt=\"Open In Colab\"/></a>"
      ]
    },
    {
      "cell_type": "markdown",
      "metadata": {
        "id": "tF2erIkS-Zv8"
      },
      "source": [
        "To start, I am going to import the data sources from the City of Tucson and merge them into one data frame using pandas."
      ]
    },
    {
      "cell_type": "code",
      "metadata": {
        "id": "gixmZm_MvEnq",
        "outputId": "84d474f8-6dd9-4da4-f763-4f5061225fc4",
        "colab": {
          "base_uri": "https://localhost:8080/",
          "height": 278
        }
      },
      "source": [
        "import pandas as pd\n",
        "import matplotlib as plt\n",
        "from scipy import stats\n",
        "\n",
        "\n",
        "# set settings to default='warn' to avoid stopping execution of code\n",
        "pd.options.mode.chained_assignment = None \n",
        "\n",
        "\n",
        "# grab datasets from website link\n",
        "race_df = pd.read_csv('https://opendata.arcgis.com/datasets/35fda63efad14a7b8c2a0a68d77020b7_0.csv')\n",
        "education_df = pd.read_csv('https://opendata.arcgis.com/datasets/9978db16633f4d45ac8a6b31d82f95f7_0.csv')\n",
        "\n",
        "\n",
        "# merge both dataframes together\n",
        "merged_df = race_df.merge(education_df)\n",
        "merged_df.head()\n"
      ],
      "execution_count": null,
      "outputs": [
        {
          "output_type": "execute_result",
          "data": {
            "text/html": [
              "<div>\n",
              "<style scoped>\n",
              "    .dataframe tbody tr th:only-of-type {\n",
              "        vertical-align: middle;\n",
              "    }\n",
              "\n",
              "    .dataframe tbody tr th {\n",
              "        vertical-align: top;\n",
              "    }\n",
              "\n",
              "    .dataframe thead th {\n",
              "        text-align: right;\n",
              "    }\n",
              "</style>\n",
              "<table border=\"1\" class=\"dataframe\">\n",
              "  <thead>\n",
              "    <tr style=\"text-align: right;\">\n",
              "      <th></th>\n",
              "      <th>OBJECTID</th>\n",
              "      <th>NAME</th>\n",
              "      <th>WARD</th>\n",
              "      <th>DATASOURCE</th>\n",
              "      <th>ID</th>\n",
              "      <th>sourceCountry</th>\n",
              "      <th>ENRICH_FID</th>\n",
              "      <th>aggregationMethod</th>\n",
              "      <th>populationToPolygonSizeRating</th>\n",
              "      <th>apportionmentConfidence</th>\n",
              "      <th>HasData</th>\n",
              "      <th>WHITE_CY</th>\n",
              "      <th>BLACK_CY</th>\n",
              "      <th>AMERIND_CY</th>\n",
              "      <th>ASIAN_CY</th>\n",
              "      <th>PACIFIC_CY</th>\n",
              "      <th>OTHRACE_CY</th>\n",
              "      <th>RACE2UP_CY</th>\n",
              "      <th>HISPPOP_CY</th>\n",
              "      <th>MINORITYCY</th>\n",
              "      <th>WHITE10</th>\n",
              "      <th>BLACK10</th>\n",
              "      <th>AMERIND10</th>\n",
              "      <th>ASIAN10</th>\n",
              "      <th>PACIFIC10</th>\n",
              "      <th>OTHRACE10</th>\n",
              "      <th>RACE2UP10</th>\n",
              "      <th>HISPPOP10</th>\n",
              "      <th>MINORITY10</th>\n",
              "      <th>DIVINDX10</th>\n",
              "      <th>HISPWHT_CY</th>\n",
              "      <th>HISPBLK_CY</th>\n",
              "      <th>HISPAI_CY</th>\n",
              "      <th>HISPASN_CY</th>\n",
              "      <th>HISPPI_CY</th>\n",
              "      <th>HISPOTH_CY</th>\n",
              "      <th>HISPMLT_CY</th>\n",
              "      <th>HWHITE10</th>\n",
              "      <th>HBLACK10</th>\n",
              "      <th>HAMERIND10</th>\n",
              "      <th>HASIAN10</th>\n",
              "      <th>HPACIFIC10</th>\n",
              "      <th>HOTHRACE10</th>\n",
              "      <th>HRACE2UP10</th>\n",
              "      <th>HRACEBAS10</th>\n",
              "      <th>H1RACE10</th>\n",
              "      <th>HADRBASE10</th>\n",
              "      <th>HAD1RACE10</th>\n",
              "      <th>U18RBASE10</th>\n",
              "      <th>NONHISP_CY</th>\n",
              "      <th>NHSPWHT_CY</th>\n",
              "      <th>NHSPBLK_CY</th>\n",
              "      <th>NHSPAI_CY</th>\n",
              "      <th>NHSPASN_CY</th>\n",
              "      <th>NHSPPI_CY</th>\n",
              "      <th>NHSPOTH_CY</th>\n",
              "      <th>NHSPMLT_CY</th>\n",
              "      <th>RACEBASECY</th>\n",
              "      <th>WHTNHISP10</th>\n",
              "      <th>RACEBASE10</th>\n",
              "      <th>POP1RACE10</th>\n",
              "      <th>ADRACBAS10</th>\n",
              "      <th>AD1RACE10</th>\n",
              "      <th>DIVINDX_CY</th>\n",
              "      <th>NOHS_CY</th>\n",
              "      <th>SOMEHS_CY</th>\n",
              "      <th>HSGRAD_CY</th>\n",
              "      <th>GED_CY</th>\n",
              "      <th>SMCOLL_CY</th>\n",
              "      <th>ASSCDEG_CY</th>\n",
              "      <th>BACHDEG_CY</th>\n",
              "      <th>GRADDEG_CY</th>\n",
              "      <th>EDUCBASECY</th>\n",
              "    </tr>\n",
              "  </thead>\n",
              "  <tbody>\n",
              "    <tr>\n",
              "      <th>0</th>\n",
              "      <td>1</td>\n",
              "      <td>A Mountain</td>\n",
              "      <td>1</td>\n",
              "      <td>NEIGHBORHOODS</td>\n",
              "      <td>0</td>\n",
              "      <td>US</td>\n",
              "      <td>1</td>\n",
              "      <td>BlockApportionment:US.BlockGroups</td>\n",
              "      <td>2.191</td>\n",
              "      <td>2.576</td>\n",
              "      <td>1</td>\n",
              "      <td>1443</td>\n",
              "      <td>316</td>\n",
              "      <td>227</td>\n",
              "      <td>68</td>\n",
              "      <td>3</td>\n",
              "      <td>1236</td>\n",
              "      <td>155</td>\n",
              "      <td>2638</td>\n",
              "      <td>3164</td>\n",
              "      <td>1451</td>\n",
              "      <td>318</td>\n",
              "      <td>223</td>\n",
              "      <td>62</td>\n",
              "      <td>3</td>\n",
              "      <td>1137</td>\n",
              "      <td>148</td>\n",
              "      <td>2465</td>\n",
              "      <td>2990</td>\n",
              "      <td>87.6</td>\n",
              "      <td>1159</td>\n",
              "      <td>17</td>\n",
              "      <td>114</td>\n",
              "      <td>8</td>\n",
              "      <td>0</td>\n",
              "      <td>1226</td>\n",
              "      <td>114</td>\n",
              "      <td>1099</td>\n",
              "      <td>16</td>\n",
              "      <td>108</td>\n",
              "      <td>8</td>\n",
              "      <td>0</td>\n",
              "      <td>1125</td>\n",
              "      <td>109</td>\n",
              "      <td>2465</td>\n",
              "      <td>2356</td>\n",
              "      <td>1546</td>\n",
              "      <td>1486</td>\n",
              "      <td>1095</td>\n",
              "      <td>810</td>\n",
              "      <td>284</td>\n",
              "      <td>299</td>\n",
              "      <td>113</td>\n",
              "      <td>60</td>\n",
              "      <td>3</td>\n",
              "      <td>10</td>\n",
              "      <td>41</td>\n",
              "      <td>3448</td>\n",
              "      <td>352</td>\n",
              "      <td>3342</td>\n",
              "      <td>3194</td>\n",
              "      <td>2247</td>\n",
              "      <td>2157</td>\n",
              "      <td>87.9</td>\n",
              "      <td>382</td>\n",
              "      <td>291</td>\n",
              "      <td>323</td>\n",
              "      <td>187</td>\n",
              "      <td>498</td>\n",
              "      <td>131</td>\n",
              "      <td>88</td>\n",
              "      <td>13</td>\n",
              "      <td>1913</td>\n",
              "    </tr>\n",
              "    <tr>\n",
              "      <th>1</th>\n",
              "      <td>2</td>\n",
              "      <td>Adelanto</td>\n",
              "      <td>3</td>\n",
              "      <td>NEIGHBORHOODS</td>\n",
              "      <td>1</td>\n",
              "      <td>US</td>\n",
              "      <td>2</td>\n",
              "      <td>BlockApportionment:US.BlockGroups</td>\n",
              "      <td>2.191</td>\n",
              "      <td>2.576</td>\n",
              "      <td>1</td>\n",
              "      <td>123</td>\n",
              "      <td>43</td>\n",
              "      <td>106</td>\n",
              "      <td>5</td>\n",
              "      <td>0</td>\n",
              "      <td>92</td>\n",
              "      <td>20</td>\n",
              "      <td>218</td>\n",
              "      <td>348</td>\n",
              "      <td>124</td>\n",
              "      <td>42</td>\n",
              "      <td>103</td>\n",
              "      <td>4</td>\n",
              "      <td>0</td>\n",
              "      <td>81</td>\n",
              "      <td>18</td>\n",
              "      <td>197</td>\n",
              "      <td>324</td>\n",
              "      <td>90.0</td>\n",
              "      <td>82</td>\n",
              "      <td>3</td>\n",
              "      <td>30</td>\n",
              "      <td>0</td>\n",
              "      <td>0</td>\n",
              "      <td>91</td>\n",
              "      <td>12</td>\n",
              "      <td>75</td>\n",
              "      <td>3</td>\n",
              "      <td>27</td>\n",
              "      <td>0</td>\n",
              "      <td>0</td>\n",
              "      <td>81</td>\n",
              "      <td>11</td>\n",
              "      <td>197</td>\n",
              "      <td>186</td>\n",
              "      <td>128</td>\n",
              "      <td>123</td>\n",
              "      <td>137</td>\n",
              "      <td>171</td>\n",
              "      <td>41</td>\n",
              "      <td>40</td>\n",
              "      <td>77</td>\n",
              "      <td>5</td>\n",
              "      <td>0</td>\n",
              "      <td>1</td>\n",
              "      <td>8</td>\n",
              "      <td>389</td>\n",
              "      <td>49</td>\n",
              "      <td>372</td>\n",
              "      <td>354</td>\n",
              "      <td>236</td>\n",
              "      <td>227</td>\n",
              "      <td>90.5</td>\n",
              "      <td>54</td>\n",
              "      <td>34</td>\n",
              "      <td>55</td>\n",
              "      <td>17</td>\n",
              "      <td>9</td>\n",
              "      <td>10</td>\n",
              "      <td>10</td>\n",
              "      <td>11</td>\n",
              "      <td>200</td>\n",
              "    </tr>\n",
              "    <tr>\n",
              "      <th>2</th>\n",
              "      <td>3</td>\n",
              "      <td>Alvernon Heights</td>\n",
              "      <td>5</td>\n",
              "      <td>NEIGHBORHOODS</td>\n",
              "      <td>2</td>\n",
              "      <td>US</td>\n",
              "      <td>3</td>\n",
              "      <td>BlockApportionment:US.BlockGroups</td>\n",
              "      <td>2.191</td>\n",
              "      <td>2.576</td>\n",
              "      <td>1</td>\n",
              "      <td>186</td>\n",
              "      <td>31</td>\n",
              "      <td>7</td>\n",
              "      <td>7</td>\n",
              "      <td>1</td>\n",
              "      <td>67</td>\n",
              "      <td>21</td>\n",
              "      <td>201</td>\n",
              "      <td>246</td>\n",
              "      <td>185</td>\n",
              "      <td>29</td>\n",
              "      <td>7</td>\n",
              "      <td>6</td>\n",
              "      <td>1</td>\n",
              "      <td>57</td>\n",
              "      <td>19</td>\n",
              "      <td>177</td>\n",
              "      <td>219</td>\n",
              "      <td>80.5</td>\n",
              "      <td>113</td>\n",
              "      <td>4</td>\n",
              "      <td>2</td>\n",
              "      <td>2</td>\n",
              "      <td>0</td>\n",
              "      <td>67</td>\n",
              "      <td>13</td>\n",
              "      <td>100</td>\n",
              "      <td>4</td>\n",
              "      <td>2</td>\n",
              "      <td>2</td>\n",
              "      <td>0</td>\n",
              "      <td>57</td>\n",
              "      <td>12</td>\n",
              "      <td>177</td>\n",
              "      <td>164</td>\n",
              "      <td>109</td>\n",
              "      <td>103</td>\n",
              "      <td>97</td>\n",
              "      <td>119</td>\n",
              "      <td>74</td>\n",
              "      <td>26</td>\n",
              "      <td>5</td>\n",
              "      <td>5</td>\n",
              "      <td>1</td>\n",
              "      <td>0</td>\n",
              "      <td>7</td>\n",
              "      <td>320</td>\n",
              "      <td>85</td>\n",
              "      <td>304</td>\n",
              "      <td>285</td>\n",
              "      <td>207</td>\n",
              "      <td>197</td>\n",
              "      <td>81.4</td>\n",
              "      <td>3</td>\n",
              "      <td>21</td>\n",
              "      <td>34</td>\n",
              "      <td>17</td>\n",
              "      <td>69</td>\n",
              "      <td>12</td>\n",
              "      <td>26</td>\n",
              "      <td>7</td>\n",
              "      <td>189</td>\n",
              "    </tr>\n",
              "    <tr>\n",
              "      <th>3</th>\n",
              "      <td>4</td>\n",
              "      <td>Amphi</td>\n",
              "      <td>3</td>\n",
              "      <td>NEIGHBORHOODS</td>\n",
              "      <td>3</td>\n",
              "      <td>US</td>\n",
              "      <td>4</td>\n",
              "      <td>BlockApportionment:US.BlockGroups</td>\n",
              "      <td>2.191</td>\n",
              "      <td>2.576</td>\n",
              "      <td>1</td>\n",
              "      <td>3967</td>\n",
              "      <td>612</td>\n",
              "      <td>314</td>\n",
              "      <td>469</td>\n",
              "      <td>26</td>\n",
              "      <td>1579</td>\n",
              "      <td>495</td>\n",
              "      <td>3898</td>\n",
              "      <td>5380</td>\n",
              "      <td>4229</td>\n",
              "      <td>602</td>\n",
              "      <td>307</td>\n",
              "      <td>425</td>\n",
              "      <td>24</td>\n",
              "      <td>1408</td>\n",
              "      <td>467</td>\n",
              "      <td>3539</td>\n",
              "      <td>4959</td>\n",
              "      <td>83.3</td>\n",
              "      <td>1883</td>\n",
              "      <td>79</td>\n",
              "      <td>121</td>\n",
              "      <td>5</td>\n",
              "      <td>6</td>\n",
              "      <td>1571</td>\n",
              "      <td>233</td>\n",
              "      <td>1727</td>\n",
              "      <td>71</td>\n",
              "      <td>114</td>\n",
              "      <td>5</td>\n",
              "      <td>6</td>\n",
              "      <td>1399</td>\n",
              "      <td>217</td>\n",
              "      <td>3539</td>\n",
              "      <td>3322</td>\n",
              "      <td>2284</td>\n",
              "      <td>2181</td>\n",
              "      <td>2030</td>\n",
              "      <td>3566</td>\n",
              "      <td>2084</td>\n",
              "      <td>534</td>\n",
              "      <td>193</td>\n",
              "      <td>465</td>\n",
              "      <td>20</td>\n",
              "      <td>8</td>\n",
              "      <td>262</td>\n",
              "      <td>7462</td>\n",
              "      <td>2502</td>\n",
              "      <td>7462</td>\n",
              "      <td>6995</td>\n",
              "      <td>5431</td>\n",
              "      <td>5168</td>\n",
              "      <td>85.2</td>\n",
              "      <td>405</td>\n",
              "      <td>697</td>\n",
              "      <td>954</td>\n",
              "      <td>232</td>\n",
              "      <td>1260</td>\n",
              "      <td>395</td>\n",
              "      <td>432</td>\n",
              "      <td>213</td>\n",
              "      <td>4588</td>\n",
              "    </tr>\n",
              "    <tr>\n",
              "      <th>4</th>\n",
              "      <td>5</td>\n",
              "      <td>Armory Park</td>\n",
              "      <td>6</td>\n",
              "      <td>NEIGHBORHOODS</td>\n",
              "      <td>4</td>\n",
              "      <td>US</td>\n",
              "      <td>5</td>\n",
              "      <td>BlockApportionment:US.BlockGroups</td>\n",
              "      <td>2.191</td>\n",
              "      <td>2.576</td>\n",
              "      <td>1</td>\n",
              "      <td>1411</td>\n",
              "      <td>66</td>\n",
              "      <td>61</td>\n",
              "      <td>41</td>\n",
              "      <td>3</td>\n",
              "      <td>229</td>\n",
              "      <td>113</td>\n",
              "      <td>776</td>\n",
              "      <td>958</td>\n",
              "      <td>1394</td>\n",
              "      <td>56</td>\n",
              "      <td>52</td>\n",
              "      <td>32</td>\n",
              "      <td>2</td>\n",
              "      <td>185</td>\n",
              "      <td>92</td>\n",
              "      <td>637</td>\n",
              "      <td>788</td>\n",
              "      <td>67.7</td>\n",
              "      <td>445</td>\n",
              "      <td>8</td>\n",
              "      <td>32</td>\n",
              "      <td>2</td>\n",
              "      <td>3</td>\n",
              "      <td>225</td>\n",
              "      <td>61</td>\n",
              "      <td>369</td>\n",
              "      <td>7</td>\n",
              "      <td>26</td>\n",
              "      <td>2</td>\n",
              "      <td>2</td>\n",
              "      <td>181</td>\n",
              "      <td>49</td>\n",
              "      <td>636</td>\n",
              "      <td>588</td>\n",
              "      <td>521</td>\n",
              "      <td>490</td>\n",
              "      <td>198</td>\n",
              "      <td>1148</td>\n",
              "      <td>966</td>\n",
              "      <td>57</td>\n",
              "      <td>30</td>\n",
              "      <td>39</td>\n",
              "      <td>1</td>\n",
              "      <td>4</td>\n",
              "      <td>52</td>\n",
              "      <td>1924</td>\n",
              "      <td>1026</td>\n",
              "      <td>1813</td>\n",
              "      <td>1721</td>\n",
              "      <td>1616</td>\n",
              "      <td>1552</td>\n",
              "      <td>72.0</td>\n",
              "      <td>65</td>\n",
              "      <td>70</td>\n",
              "      <td>138</td>\n",
              "      <td>73</td>\n",
              "      <td>287</td>\n",
              "      <td>71</td>\n",
              "      <td>404</td>\n",
              "      <td>449</td>\n",
              "      <td>1557</td>\n",
              "    </tr>\n",
              "  </tbody>\n",
              "</table>\n",
              "</div>"
            ],
            "text/plain": [
              "   OBJECTID              NAME  WARD  ... BACHDEG_CY  GRADDEG_CY EDUCBASECY\n",
              "0         1        A Mountain     1  ...         88          13       1913\n",
              "1         2          Adelanto     3  ...         10          11        200\n",
              "2         3  Alvernon Heights     5  ...         26           7        189\n",
              "3         4             Amphi     3  ...        432         213       4588\n",
              "4         5       Armory Park     6  ...        404         449       1557\n",
              "\n",
              "[5 rows x 73 columns]"
            ]
          },
          "metadata": {
            "tags": []
          },
          "execution_count": 35
        }
      ]
    },
    {
      "cell_type": "markdown",
      "metadata": {
        "id": "OEeIoKkV-pWS"
      },
      "source": [
        "I am then going to rearrange the columns and pick only those that I am interested in reviewing."
      ]
    },
    {
      "cell_type": "code",
      "metadata": {
        "id": "soP70t5U1_8e"
      },
      "source": [
        "# identify index numbers of columns\n",
        "columns = list(merged_df.columns.values)\n",
        "\n",
        "# create smaller cleaned up dataframe with only columns of interest (neighborhood info, race, education)\n",
        "demog_df = merged_df[columns[1:3] + columns[11:12] + columns[18:19] + columns[12:17] + columns[64:72]]"
      ],
      "execution_count": null,
      "outputs": []
    },
    {
      "cell_type": "markdown",
      "metadata": {
        "id": "nzrhimHmzv5x"
      },
      "source": [
        "Add additional columns:\n",
        "Totals for population count, education response count\n",
        "Combined totals for none and some HS; HS and GED; some, Associates, Bachelors, and Grad college"
      ]
    },
    {
      "cell_type": "code",
      "metadata": {
        "id": "HP8NuT7thSkY"
      },
      "source": [
        "# add all races for total population\n",
        "demog_df['total_pop'] = demog_df['WHITE_CY'] + demog_df['BLACK_CY']\\\n",
        " + demog_df['AMERIND_CY'] + demog_df['ASIAN_CY'] + demog_df['PACIFIC_CY'] \\\n",
        " + demog_df['OTHRACE_CY'] + demog_df['HISPPOP_CY']\n",
        "\n",
        "# add all responses for total education attendees\n",
        "demog_df['total_ed'] = demog_df['ASSCDEG_CY'] + demog_df['BACHDEG_CY']\\\n",
        " + demog_df['GED_CY'] + demog_df['GRADDEG_CY'] + demog_df['HSGRAD_CY']\\\n",
        "  + demog_df['NOHS_CY'] + demog_df['SMCOLL_CY'] + demog_df['SOMEHS_CY']\n",
        "\n",
        "# add all non HS graduates\n",
        "demog_df['less_HS'] = demog_df['NOHS_CY'] + demog_df['SOMEHS_CY']\n",
        "\n",
        "# add all HS/GED\n",
        "demog_df['HS_GED'] = demog_df['HSGRAD_CY'] + demog_df['GED_CY']\n",
        "\n",
        "# add all post HS education\n",
        "demog_df['post_HS'] = demog_df['GRADDEG_CY'] + demog_df['SMCOLL_CY'] \\\n",
        "+ demog_df['ASSCDEG_CY'] + demog_df['BACHDEG_CY']"
      ],
      "execution_count": null,
      "outputs": []
    },
    {
      "cell_type": "markdown",
      "metadata": {
        "id": "vZg5ZuzL1XU7"
      },
      "source": [
        "Create second dataframe that is grouped by Wards for average comparison"
      ]
    },
    {
      "cell_type": "code",
      "metadata": {
        "id": "OSnJvld_kvyo",
        "outputId": "77e7d5f5-f562-4fd8-dc01-e9ff79c60456",
        "colab": {
          "base_uri": "https://localhost:8080/"
        }
      },
      "source": [
        "# group by wards\n",
        "ward_df = demog_df.groupby('WARD').sum()\n",
        "\n",
        "# test dataframe\n",
        "ward_df.info()\n"
      ],
      "execution_count": null,
      "outputs": [
        {
          "output_type": "stream",
          "text": [
            "<class 'pandas.core.frame.DataFrame'>\n",
            "Int64Index: 6 entries, 1 to 6\n",
            "Data columns (total 20 columns):\n",
            " #   Column      Non-Null Count  Dtype\n",
            "---  ------      --------------  -----\n",
            " 0   WHITE_CY    6 non-null      int64\n",
            " 1   HISPPOP_CY  6 non-null      int64\n",
            " 2   BLACK_CY    6 non-null      int64\n",
            " 3   AMERIND_CY  6 non-null      int64\n",
            " 4   ASIAN_CY    6 non-null      int64\n",
            " 5   PACIFIC_CY  6 non-null      int64\n",
            " 6   OTHRACE_CY  6 non-null      int64\n",
            " 7   NOHS_CY     6 non-null      int64\n",
            " 8   SOMEHS_CY   6 non-null      int64\n",
            " 9   HSGRAD_CY   6 non-null      int64\n",
            " 10  GED_CY      6 non-null      int64\n",
            " 11  SMCOLL_CY   6 non-null      int64\n",
            " 12  ASSCDEG_CY  6 non-null      int64\n",
            " 13  BACHDEG_CY  6 non-null      int64\n",
            " 14  GRADDEG_CY  6 non-null      int64\n",
            " 15  total_pop   6 non-null      int64\n",
            " 16  total_ed    6 non-null      int64\n",
            " 17  less_HS     6 non-null      int64\n",
            " 18  HS_GED      6 non-null      int64\n",
            " 19  post_HS     6 non-null      int64\n",
            "dtypes: int64(20)\n",
            "memory usage: 1008.0 bytes\n"
          ],
          "name": "stdout"
        }
      ]
    },
    {
      "cell_type": "markdown",
      "metadata": {
        "id": "p_Fm0Olm2YEL"
      },
      "source": [
        "Add columns that show the overall percentage of ethnicity from total population per neighborhood, and overall education percentage from total education responses per neighborhood"
      ]
    },
    {
      "cell_type": "code",
      "metadata": {
        "id": "x4nNeT59hVa5",
        "outputId": "261a9beb-dd4c-4b5e-9b67-950d63d0888a",
        "colab": {
          "base_uri": "https://localhost:8080/"
        }
      },
      "source": [
        "# percentage white population\n",
        "demog_df['white_%'] = (demog_df['WHITE_CY'] / demog_df['total_pop'])*100\n",
        "\n",
        "# percentage hispanic population per neighborhood\n",
        "demog_df['hisp_%'] = (demog_df['HISPPOP_CY'] / demog_df['total_pop'])*100\n",
        "\n",
        "# percentage black population per neighborhood\n",
        "demog_df['black_%'] = (demog_df['BLACK_CY'] / demog_df['total_pop'])*100\n",
        "\n",
        "# percentage Tribal population per neighborhood\n",
        "demog_df['tribal_%'] = (demog_df['AMERIND_CY'] / demog_df['total_pop'])*100\n",
        "\n",
        "# percentage asian  population per neighborhood\n",
        "demog_df['tribal_%'] = ((demog_df['ASIAN_CY'] + demog_df['PACIFIC_CY']) / demog_df['total_pop'])*100\n",
        "\n",
        "# percentage other population per neighborhood\n",
        "demog_df['other_%'] = (demog_df['OTHRACE_CY'] / demog_df['total_pop'])*100\n",
        "\n",
        "\n",
        "# create columns for percentage of education completion out of total population of ward\n",
        "# and append to demog_df dataframe\n",
        "demog_df['less_HS _%'] = demog_df['less_HS'] / demog_df['total_ed'] * 100\n",
        "demog_df['HS _%'] = demog_df['HS_GED'] / demog_df['total_ed'] * 100\n",
        "demog_df['post_HS _%'] = demog_df['post_HS'] / demog_df['total_ed'] * 100\n",
        "\n",
        "\n",
        "# view clean dataframe\n",
        "demog_df.info()"
      ],
      "execution_count": null,
      "outputs": [
        {
          "output_type": "stream",
          "text": [
            "<class 'pandas.core.frame.DataFrame'>\n",
            "Int64Index: 159 entries, 0 to 158\n",
            "Data columns (total 30 columns):\n",
            " #   Column      Non-Null Count  Dtype  \n",
            "---  ------      --------------  -----  \n",
            " 0   NAME        159 non-null    object \n",
            " 1   WARD        159 non-null    int64  \n",
            " 2   WHITE_CY    159 non-null    int64  \n",
            " 3   HISPPOP_CY  159 non-null    int64  \n",
            " 4   BLACK_CY    159 non-null    int64  \n",
            " 5   AMERIND_CY  159 non-null    int64  \n",
            " 6   ASIAN_CY    159 non-null    int64  \n",
            " 7   PACIFIC_CY  159 non-null    int64  \n",
            " 8   OTHRACE_CY  159 non-null    int64  \n",
            " 9   NOHS_CY     159 non-null    int64  \n",
            " 10  SOMEHS_CY   159 non-null    int64  \n",
            " 11  HSGRAD_CY   159 non-null    int64  \n",
            " 12  GED_CY      159 non-null    int64  \n",
            " 13  SMCOLL_CY   159 non-null    int64  \n",
            " 14  ASSCDEG_CY  159 non-null    int64  \n",
            " 15  BACHDEG_CY  159 non-null    int64  \n",
            " 16  GRADDEG_CY  159 non-null    int64  \n",
            " 17  total_pop   159 non-null    int64  \n",
            " 18  total_ed    159 non-null    int64  \n",
            " 19  less_HS     159 non-null    int64  \n",
            " 20  HS_GED      159 non-null    int64  \n",
            " 21  post_HS     159 non-null    int64  \n",
            " 22  white_%     158 non-null    float64\n",
            " 23  hisp_%      158 non-null    float64\n",
            " 24  black_%     158 non-null    float64\n",
            " 25  tribal_%    158 non-null    float64\n",
            " 26  other_%     158 non-null    float64\n",
            " 27  less_HS _%  158 non-null    float64\n",
            " 28  HS _%       158 non-null    float64\n",
            " 29  post_HS _%  158 non-null    float64\n",
            "dtypes: float64(8), int64(21), object(1)\n",
            "memory usage: 38.5+ KB\n"
          ],
          "name": "stdout"
        }
      ]
    },
    {
      "cell_type": "markdown",
      "metadata": {
        "id": "W82Msbd613BV"
      },
      "source": [
        "Add columns that show the overall percentage of ethnicity from total population per ward, and overall education percentage from total education responses per ward."
      ]
    },
    {
      "cell_type": "code",
      "metadata": {
        "id": "c3Yuangmk9Cl"
      },
      "source": [
        "# percentage white population\n",
        "ward_df['white_%'] = (ward_df['WHITE_CY'] / ward_df['total_pop'])*100\n",
        "\n",
        "# percentage hispanic population per neighborhood\n",
        "ward_df['hisp_%'] = (ward_df['HISPPOP_CY'] / ward_df['total_pop'])*100\n",
        "\n",
        "# percentage black population per neighborhood\n",
        "ward_df['black_%'] = (ward_df['BLACK_CY'] / ward_df['total_pop'])*100\n",
        "\n",
        "# percentage Tribal population per neighborhood\n",
        "ward_df['tribal_%'] = (ward_df['AMERIND_CY'] / ward_df['total_pop'])*100\n",
        "\n",
        "# percentage Asian American population per neighborhood\n",
        "ward_df['asian_%'] = ((ward_df['ASIAN_CY'] + ward_df['PACIFIC_CY'])\\\n",
        "                      / ward_df['total_pop'])*100\n",
        "\n",
        "# percentage other population per neighborhood\n",
        "ward_df['other_%'] = ((ward_df['OTHRACE_CY'] / ward_df['total_pop'])*100)"
      ],
      "execution_count": null,
      "outputs": []
    },
    {
      "cell_type": "code",
      "metadata": {
        "id": "UP2ECsgWxaZp"
      },
      "source": [
        "# create columns for percentage of education completion out of \n",
        "#total population of ward and append to ward_df dataframe\n",
        "\n",
        "ward_df['less_HS_%'] = (ward_df['less_HS'] / ward_df['total_ed']) * 100\n",
        "\n",
        "ward_df['less_HS_%'] = (ward_df['less_HS'] / ward_df['total_ed']) * 100\n",
        "ward_df['HS_%'] = ward_df['HS_GED'] / ward_df['total_ed'] * 100\n",
        "ward_df['post_HS_%'] = ward_df['post_HS'] / ward_df['total_ed'] * 100"
      ],
      "execution_count": null,
      "outputs": []
    },
    {
      "cell_type": "markdown",
      "metadata": {
        "id": "QQylCFt2iPoE"
      },
      "source": [
        "\n",
        "Refine columns so only relevant ones are in dataframe for wards."
      ]
    },
    {
      "cell_type": "code",
      "metadata": {
        "id": "JueoQxlSxhNl",
        "outputId": "cb3d674f-2047-4d4e-b102-1d0b1116a722",
        "colab": {
          "base_uri": "https://localhost:8080/",
          "height": 269
        }
      },
      "source": [
        "# get numerical index for columns\n",
        "ward_col = list(ward_df.columns.values)\n",
        "\n",
        "# pick relevant columns\n",
        "ward_per_df = ward_df[ward_col[20:]]\n",
        "\n",
        "ward_per_df"
      ],
      "execution_count": null,
      "outputs": [
        {
          "output_type": "execute_result",
          "data": {
            "text/html": [
              "<div>\n",
              "<style scoped>\n",
              "    .dataframe tbody tr th:only-of-type {\n",
              "        vertical-align: middle;\n",
              "    }\n",
              "\n",
              "    .dataframe tbody tr th {\n",
              "        vertical-align: top;\n",
              "    }\n",
              "\n",
              "    .dataframe thead th {\n",
              "        text-align: right;\n",
              "    }\n",
              "</style>\n",
              "<table border=\"1\" class=\"dataframe\">\n",
              "  <thead>\n",
              "    <tr style=\"text-align: right;\">\n",
              "      <th></th>\n",
              "      <th>white_%</th>\n",
              "      <th>hisp_%</th>\n",
              "      <th>black_%</th>\n",
              "      <th>tribal_%</th>\n",
              "      <th>asian_%</th>\n",
              "      <th>other_%</th>\n",
              "      <th>less_HS_%</th>\n",
              "      <th>HS_%</th>\n",
              "      <th>post_HS_%</th>\n",
              "    </tr>\n",
              "    <tr>\n",
              "      <th>WARD</th>\n",
              "      <th></th>\n",
              "      <th></th>\n",
              "      <th></th>\n",
              "      <th></th>\n",
              "      <th></th>\n",
              "      <th></th>\n",
              "      <th></th>\n",
              "      <th></th>\n",
              "      <th></th>\n",
              "    </tr>\n",
              "  </thead>\n",
              "  <tbody>\n",
              "    <tr>\n",
              "      <th>1</th>\n",
              "      <td>33.140964</td>\n",
              "      <td>44.009857</td>\n",
              "      <td>1.840853</td>\n",
              "      <td>2.771810</td>\n",
              "      <td>0.874089</td>\n",
              "      <td>17.362428</td>\n",
              "      <td>24.469280</td>\n",
              "      <td>28.821570</td>\n",
              "      <td>46.709150</td>\n",
              "    </tr>\n",
              "    <tr>\n",
              "      <th>2</th>\n",
              "      <td>66.856457</td>\n",
              "      <td>19.040979</td>\n",
              "      <td>4.208304</td>\n",
              "      <td>0.958634</td>\n",
              "      <td>3.303897</td>\n",
              "      <td>5.631730</td>\n",
              "      <td>6.115641</td>\n",
              "      <td>19.770818</td>\n",
              "      <td>74.113541</td>\n",
              "    </tr>\n",
              "    <tr>\n",
              "      <th>3</th>\n",
              "      <td>47.155126</td>\n",
              "      <td>29.946099</td>\n",
              "      <td>4.687780</td>\n",
              "      <td>2.863884</td>\n",
              "      <td>3.785337</td>\n",
              "      <td>11.561773</td>\n",
              "      <td>15.418545</td>\n",
              "      <td>19.961918</td>\n",
              "      <td>64.619538</td>\n",
              "    </tr>\n",
              "    <tr>\n",
              "      <th>4</th>\n",
              "      <td>58.345003</td>\n",
              "      <td>24.302992</td>\n",
              "      <td>5.226549</td>\n",
              "      <td>1.036977</td>\n",
              "      <td>3.525259</td>\n",
              "      <td>7.563220</td>\n",
              "      <td>8.111849</td>\n",
              "      <td>24.584243</td>\n",
              "      <td>67.303908</td>\n",
              "    </tr>\n",
              "    <tr>\n",
              "      <th>5</th>\n",
              "      <td>31.166353</td>\n",
              "      <td>44.246335</td>\n",
              "      <td>3.170152</td>\n",
              "      <td>2.221414</td>\n",
              "      <td>1.066776</td>\n",
              "      <td>18.128972</td>\n",
              "      <td>26.673204</td>\n",
              "      <td>30.220747</td>\n",
              "      <td>43.106049</td>\n",
              "    </tr>\n",
              "    <tr>\n",
              "      <th>6</th>\n",
              "      <td>61.013897</td>\n",
              "      <td>22.493153</td>\n",
              "      <td>3.547880</td>\n",
              "      <td>1.734632</td>\n",
              "      <td>4.033526</td>\n",
              "      <td>7.176912</td>\n",
              "      <td>7.957657</td>\n",
              "      <td>17.385801</td>\n",
              "      <td>74.656541</td>\n",
              "    </tr>\n",
              "  </tbody>\n",
              "</table>\n",
              "</div>"
            ],
            "text/plain": [
              "        white_%     hisp_%   black_%  ...  less_HS_%       HS_%  post_HS_%\n",
              "WARD                                  ...                                 \n",
              "1     33.140964  44.009857  1.840853  ...  24.469280  28.821570  46.709150\n",
              "2     66.856457  19.040979  4.208304  ...   6.115641  19.770818  74.113541\n",
              "3     47.155126  29.946099  4.687780  ...  15.418545  19.961918  64.619538\n",
              "4     58.345003  24.302992  5.226549  ...   8.111849  24.584243  67.303908\n",
              "5     31.166353  44.246335  3.170152  ...  26.673204  30.220747  43.106049\n",
              "6     61.013897  22.493153  3.547880  ...   7.957657  17.385801  74.656541\n",
              "\n",
              "[6 rows x 9 columns]"
            ]
          },
          "metadata": {
            "tags": []
          },
          "execution_count": 26
        }
      ]
    },
    {
      "cell_type": "markdown",
      "metadata": {
        "id": "dqhfYdDtKsHM"
      },
      "source": [
        "I am now going to see if there are any correlations between the columns, namely education and race.\n",
        "\n",
        "I want to get a general view of the correlations between the races and education\n",
        "attainment. I don't want repeating values, so I created a while loop to go through and get the specific correlations I wanted:\n",
        "Between each racial demographic and the education demographics"
      ]
    },
    {
      "cell_type": "code",
      "metadata": {
        "id": "sgrF2KiuvErC",
        "outputId": "fc5a49a7-f0c2-4d91-a938-af70316f895e",
        "colab": {
          "base_uri": "https://localhost:8080/"
        }
      },
      "source": [
        "# label categories\n",
        "print(\"racial demo, less_HS, HS_GED, post_HS\")\n",
        "\n",
        "# initialize column counter for race demographics\n",
        "col_num = 2\n",
        "\n",
        "## go through columns 2-8\n",
        "while col_num < 9:\n",
        "  #get racial demographic column name\n",
        "  name_race = demog_df.columns[col_num]\n",
        "\n",
        "  # reset info to empty list\n",
        "  info = []\n",
        "\n",
        "  ## get correlations for less HS, HS, post HS\n",
        "  info.append(demog_df.iloc[:, col_num].corr(demog_df.iloc[:, -9]))\n",
        "  info.append(demog_df.iloc[:, col_num].corr(demog_df.iloc[:, -10]))\n",
        "  info.append(demog_df.iloc[:, col_num].corr(demog_df.iloc[:, -11]))\n",
        "  # increase column counter by 1\n",
        "  col_num += 1\n",
        "\n",
        "  # print racial demographic, correlations\n",
        "  print(\"{} : {}\".format(name_race, info))\n",
        "## end of while loop"
      ],
      "execution_count": null,
      "outputs": [
        {
          "output_type": "stream",
          "text": [
            "racial demo, less_HS, HS_GED, post_HS\n",
            "WHITE_CY : [0.9610543318325542, 0.898935262334223, 0.6530251140303736]\n",
            "HISPPOP_CY : [0.5658203929232634, 0.8867497222737583, 0.9494836955367211]\n",
            "BLACK_CY : [0.8287302636582876, 0.7508308729990455, 0.48412733466151087]\n",
            "AMERIND_CY : [0.48754274792404717, 0.7876512888151301, 0.9028858546791203]\n",
            "ASIAN_CY : [0.7905156824867058, 0.5139271507558391, 0.24151947054688616]\n",
            "PACIFIC_CY : [0.7910554883981283, 0.6169615705548646, 0.31594674122963873]\n",
            "OTHRACE_CY : [0.4989591147236571, 0.8455973738400896, 0.934255262035172]\n"
          ],
          "name": "stdout"
        }
      ]
    },
    {
      "cell_type": "markdown",
      "metadata": {
        "id": "FKk1IcmF4pUT"
      },
      "source": [
        "\n",
        "\n",
        "There is a strong positive correlation between being White and having post-secondary education and a weak negative correlation between not completing HS.\n",
        "\n",
        "There is a strong positive correlation between being Hispanic and not finishing HS, or only having completed HS or GED.\n",
        "\n",
        "There is a weak positive correlation for being Black and all three categories of education completion. Implying that there is no relation in this category.\n",
        "\n",
        "There is a strong positive correlation between being Native American and not finishing HS and having only having completed HS or GED. There is a stronger negative correlation to attending post-secondary education.\n",
        "\n",
        "There is a strong negative correlation between being Asian and not having finished HS and only having HS. Implying that these relations don't frequently happen. And a strong positive correlation with attending post-secondary education.\n",
        "\n",
        "A similar correlation is found with Pacific Islanders and education as with Asians.\n",
        "\n",
        "And for other minority races there is a strong positive correlation between not finishing HS and completing HS and GED only. And a strong negative relation to post-secondary education, implying that they have a higher liklihood of not attending anything past HS."
      ]
    },
    {
      "cell_type": "markdown",
      "metadata": {
        "id": "TttZTN_u2nIv"
      },
      "source": [
        "Start exploring the descriptive statistics of dataframes for ward - for accurate count of averages. demmog_df does not describe the percentages accurately"
      ]
    },
    {
      "cell_type": "code",
      "metadata": {
        "id": "wZe3TP772luK",
        "outputId": "2a9da041-849c-4e35-d261-e6969bfe0bc5",
        "colab": {
          "base_uri": "https://localhost:8080/",
          "height": 300
        }
      },
      "source": [
        "ward_per_df.describe()"
      ],
      "execution_count": null,
      "outputs": [
        {
          "output_type": "execute_result",
          "data": {
            "text/html": [
              "<div>\n",
              "<style scoped>\n",
              "    .dataframe tbody tr th:only-of-type {\n",
              "        vertical-align: middle;\n",
              "    }\n",
              "\n",
              "    .dataframe tbody tr th {\n",
              "        vertical-align: top;\n",
              "    }\n",
              "\n",
              "    .dataframe thead th {\n",
              "        text-align: right;\n",
              "    }\n",
              "</style>\n",
              "<table border=\"1\" class=\"dataframe\">\n",
              "  <thead>\n",
              "    <tr style=\"text-align: right;\">\n",
              "      <th></th>\n",
              "      <th>white_%</th>\n",
              "      <th>hisp_%</th>\n",
              "      <th>black_%</th>\n",
              "      <th>tribal_%</th>\n",
              "      <th>asian_%</th>\n",
              "      <th>other_%</th>\n",
              "      <th>less_HS_%</th>\n",
              "      <th>HS_%</th>\n",
              "      <th>post_HS_%</th>\n",
              "    </tr>\n",
              "  </thead>\n",
              "  <tbody>\n",
              "    <tr>\n",
              "      <th>count</th>\n",
              "      <td>6.000000</td>\n",
              "      <td>6.000000</td>\n",
              "      <td>6.000000</td>\n",
              "      <td>6.000000</td>\n",
              "      <td>6.000000</td>\n",
              "      <td>6.000000</td>\n",
              "      <td>6.000000</td>\n",
              "      <td>6.000000</td>\n",
              "      <td>6.000000</td>\n",
              "    </tr>\n",
              "    <tr>\n",
              "      <th>mean</th>\n",
              "      <td>49.612967</td>\n",
              "      <td>30.673236</td>\n",
              "      <td>3.780253</td>\n",
              "      <td>1.931225</td>\n",
              "      <td>2.764814</td>\n",
              "      <td>11.237506</td>\n",
              "      <td>14.791029</td>\n",
              "      <td>23.457516</td>\n",
              "      <td>61.751454</td>\n",
              "    </tr>\n",
              "    <tr>\n",
              "      <th>std</th>\n",
              "      <td>14.974732</td>\n",
              "      <td>11.003875</td>\n",
              "      <td>1.207154</td>\n",
              "      <td>0.830049</td>\n",
              "      <td>1.412668</td>\n",
              "      <td>5.413421</td>\n",
              "      <td>8.964565</td>\n",
              "      <td>5.262329</td>\n",
              "      <td>13.655330</td>\n",
              "    </tr>\n",
              "    <tr>\n",
              "      <th>min</th>\n",
              "      <td>31.166353</td>\n",
              "      <td>19.040979</td>\n",
              "      <td>1.840853</td>\n",
              "      <td>0.958634</td>\n",
              "      <td>0.874089</td>\n",
              "      <td>5.631730</td>\n",
              "      <td>6.115641</td>\n",
              "      <td>17.385801</td>\n",
              "      <td>43.106049</td>\n",
              "    </tr>\n",
              "    <tr>\n",
              "      <th>25%</th>\n",
              "      <td>36.644504</td>\n",
              "      <td>22.945613</td>\n",
              "      <td>3.264584</td>\n",
              "      <td>1.211391</td>\n",
              "      <td>1.626056</td>\n",
              "      <td>7.273489</td>\n",
              "      <td>7.996205</td>\n",
              "      <td>19.818593</td>\n",
              "      <td>51.186747</td>\n",
              "    </tr>\n",
              "    <tr>\n",
              "      <th>50%</th>\n",
              "      <td>52.750065</td>\n",
              "      <td>27.124546</td>\n",
              "      <td>3.878092</td>\n",
              "      <td>1.978023</td>\n",
              "      <td>3.414578</td>\n",
              "      <td>9.562496</td>\n",
              "      <td>11.765197</td>\n",
              "      <td>22.273081</td>\n",
              "      <td>65.961723</td>\n",
              "    </tr>\n",
              "    <tr>\n",
              "      <th>75%</th>\n",
              "      <td>60.346674</td>\n",
              "      <td>40.493918</td>\n",
              "      <td>4.567911</td>\n",
              "      <td>2.634211</td>\n",
              "      <td>3.720318</td>\n",
              "      <td>15.912264</td>\n",
              "      <td>22.206596</td>\n",
              "      <td>27.762238</td>\n",
              "      <td>72.411133</td>\n",
              "    </tr>\n",
              "    <tr>\n",
              "      <th>max</th>\n",
              "      <td>66.856457</td>\n",
              "      <td>44.246335</td>\n",
              "      <td>5.226549</td>\n",
              "      <td>2.863884</td>\n",
              "      <td>4.033526</td>\n",
              "      <td>18.128972</td>\n",
              "      <td>26.673204</td>\n",
              "      <td>30.220747</td>\n",
              "      <td>74.656541</td>\n",
              "    </tr>\n",
              "  </tbody>\n",
              "</table>\n",
              "</div>"
            ],
            "text/plain": [
              "         white_%     hisp_%   black_%  ...  less_HS_%       HS_%  post_HS_%\n",
              "count   6.000000   6.000000  6.000000  ...   6.000000   6.000000   6.000000\n",
              "mean   49.612967  30.673236  3.780253  ...  14.791029  23.457516  61.751454\n",
              "std    14.974732  11.003875  1.207154  ...   8.964565   5.262329  13.655330\n",
              "min    31.166353  19.040979  1.840853  ...   6.115641  17.385801  43.106049\n",
              "25%    36.644504  22.945613  3.264584  ...   7.996205  19.818593  51.186747\n",
              "50%    52.750065  27.124546  3.878092  ...  11.765197  22.273081  65.961723\n",
              "75%    60.346674  40.493918  4.567911  ...  22.206596  27.762238  72.411133\n",
              "max    66.856457  44.246335  5.226549  ...  26.673204  30.220747  74.656541\n",
              "\n",
              "[8 rows x 9 columns]"
            ]
          },
          "metadata": {
            "tags": []
          },
          "execution_count": 28
        }
      ]
    },
    {
      "cell_type": "markdown",
      "metadata": {
        "id": "_RwWB5543k7Q"
      },
      "source": [
        "From the descriptive statistics, you can see that the mean for undereducation (in this instance I am taking the mean of HS/ged completion and it's lower half to include in this statistic) is 23.4. This is the value I will use to split the demog_df into higher and lower educated"
      ]
    },
    {
      "cell_type": "code",
      "metadata": {
        "id": "HoU2B_JJi-Ep"
      },
      "source": [
        "# create dataframes for hypothesis that \n",
        "neighborhood_educated = demog_df.iloc[(demog_df['HS _%'] > 23.4).values]\n",
        "neighborhood_less_HS = demog_df.iloc[(demog_df['HS _%'] < 23.4).values]\n"
      ],
      "execution_count": null,
      "outputs": []
    },
    {
      "cell_type": "markdown",
      "metadata": {
        "id": "1OKmw_QK4DZJ"
      },
      "source": [
        "With the demog_df split into more and less educated dataframes, I can do a t-test to see if there is a correlation between education and wards and education and ethnicity."
      ]
    },
    {
      "cell_type": "code",
      "metadata": {
        "id": "x5Yya2Yc4aoJ",
        "outputId": "20ea57e1-8f79-4f3c-d298-f72d5abf9f76",
        "colab": {
          "base_uri": "https://localhost:8080/"
        }
      },
      "source": [
        "# initalize column counter for first column of ethnicity\n",
        "col_num = 2\n",
        "\n",
        "# iterate through columns 2-8\n",
        "while col_num < 9:\n",
        "  # get name of column\n",
        "  col_name = demog_df.columns[col_num]\n",
        "  \n",
        "  # get st. dev. and p value for column of both dataframes\n",
        "  tw, pw = stats.ttest_ind(neighborhood_educated[col_name], \\\n",
        "                           neighborhood_less_HS[col_name])\n",
        "  \n",
        "  # increase counter\n",
        "  col_num += 1\n",
        "\n",
        "  print(\"The standard deviation for {} is {} with a p-value of {} \"\\\n",
        "        .format(col_name, tw, pw))"
      ],
      "execution_count": null,
      "outputs": [
        {
          "output_type": "stream",
          "text": [
            "The standard deviation for WHITE_CY is 1.839288031013867 with a p-value of 0.06777381945362408 \n",
            "The standard deviation for HISPPOP_CY is 5.256340382856412 with a p-value of 4.763253916875568e-07 \n",
            "The standard deviation for BLACK_CY is 2.8292944057364675 with a p-value of 0.00527863655331421 \n",
            "The standard deviation for AMERIND_CY is 5.178505019400797 with a p-value of 6.810521871352755e-07 \n",
            "The standard deviation for ASIAN_CY is -1.058859703586984 with a p-value of 0.2913004514425794 \n",
            "The standard deviation for PACIFIC_CY is 0.8658814207043 with a p-value of 0.3878849050956896 \n",
            "The standard deviation for OTHRACE_CY is 5.649494293949966 with a p-value of 7.439111698916372e-08 \n"
          ],
          "name": "stdout"
        }
      ]
    },
    {
      "cell_type": "markdown",
      "metadata": {
        "id": "uc2eDwRh0VCs"
      },
      "source": [
        "From these data it appears that we can reject many of the null hypotheses. My overall hypothesis that race correlates with education in Tucson will be proven true."
      ]
    },
    {
      "cell_type": "markdown",
      "metadata": {
        "id": "jXkk6GVF3C1Q"
      },
      "source": [
        "From the descriptive statistics, you can see that the mean white population percentage per ward is 49.6. This will be the value I use to split the demog_df dataframe into white majority vs white minority for my hypothesis based on ethnicity."
      ]
    },
    {
      "cell_type": "code",
      "metadata": {
        "id": "c-Hjm80DggHs"
      },
      "source": [
        "# create dataframes for hypothesis that race makes a difference in education completion\n",
        "wards_white_maj = demog_df.iloc[(demog_df['white_%'] > 49.6).values]\n",
        "wards_white_min = demog_df.iloc[(demog_df['white_%'] < 49.6).values]"
      ],
      "execution_count": null,
      "outputs": []
    },
    {
      "cell_type": "code",
      "metadata": {
        "id": "zwkgfV9Wik_R",
        "outputId": "3107c941-a7df-4de1-f026-dad08dd4e45a",
        "colab": {
          "base_uri": "https://localhost:8080/"
        }
      },
      "source": [
        "# initalize column counter at first education column\n",
        "col_nums = 19\n",
        "\n",
        "# iterate through columns 19-21\n",
        "while col_nums < 22:\n",
        "  # get name of column\n",
        "  col_name = demog_df.columns[col_nums]\n",
        "  \n",
        "  # get st. dev. and p value for column of both dataframes\n",
        "  tw, pw = stats.ttest_ind(wards_white_maj[col_name], wards_white_min[col_name])\n",
        "  \n",
        "  # increase counter\n",
        "  col_nums += 1\n",
        "\n",
        "  print(\"The standard deviation for {} is {} with a p-value of {} \".format(col_name, tw, pw))"
      ],
      "execution_count": null,
      "outputs": [
        {
          "output_type": "stream",
          "text": [
            "The standard deviation for less_HS is -5.56850376515166 with a p-value of 1.0979286853436549e-07 \n",
            "The standard deviation for HS_GED is -2.869558951742566 with a p-value of 0.004680746169284997 \n",
            "The standard deviation for post_HS is 1.5043265747986083 with a p-value of 0.13451919975775684 \n"
          ],
          "name": "stdout"
        }
      ]
    },
    {
      "cell_type": "markdown",
      "metadata": {
        "id": "zOlLeyLgi4Hv"
      },
      "source": [
        "My hypothesis for under educated and HS only reject the null hypotheses with a p-value of less than .05. However, post-secondary education fails to reject the null with a p-value of 0.13."
      ]
    },
    {
      "cell_type": "markdown",
      "metadata": {
        "id": "ouSQHC5HjJ2e"
      },
      "source": [
        "To highlight the differences in education per ward and ethnicity per ward I will create two graphs."
      ]
    },
    {
      "cell_type": "code",
      "metadata": {
        "id": "ZTFljhvNQiCI",
        "outputId": "d78b12dc-015a-4630-c14c-45dcc9cafb97",
        "colab": {
          "base_uri": "https://localhost:8080/",
          "height": 568
        }
      },
      "source": [
        "# get index numbers for column names\n",
        "ward_col = list(ward_per_df.columns.values)\n",
        "\n",
        "# plot bar graph for reported number education\n",
        "edu_graph = ward_per_df.plot(y= ward_col[-3:], kind= 'bar')\n",
        "\n",
        "#view education graph\n",
        "edu_graph\n",
        "\n",
        "# get index numbers for column names\n",
        "ward_col = list(ward_per_df.columns.values)\n",
        "\n",
        "# plot bar graph for reported number education\n",
        "race_graph = ward_per_df.plot(y= ward_col[:6], kind= 'bar')\n",
        "\n",
        "# view race graph\n",
        "race_graph"
      ],
      "execution_count": null,
      "outputs": [
        {
          "output_type": "execute_result",
          "data": {
            "text/plain": [
              "<matplotlib.axes._subplots.AxesSubplot at 0x7f0bab9fdc18>"
            ]
          },
          "metadata": {
            "tags": []
          },
          "execution_count": 36
        },
        {
          "output_type": "display_data",
          "data": {
            "image/png": "[encoded data removed]",
            "text/plain": [
              "<Figure size 432x288 with 1 Axes>"
            ]
          },
          "metadata": {
            "tags": [],
            "needs_background": "light"
          }
        },
        {
          "output_type": "display_data",
          "data": {
            "image/png": "[encoded data removed]",
            "text/plain": [
              "<Figure size 432x288 with 1 Axes>"
            ]
          },
          "metadata": {
            "tags": [],
            "needs_background": "light"
          }
        }
      ]
    },
    {
      "cell_type": "markdown",
      "metadata": {
        "id": "H0_WsqKCj6TA"
      },
      "source": [
        "These graphs show that in Wards 1 and 5, being of hispanic majority, have the hightest instances of not completing HS. \n",
        "\n",
        "Wards 2,3,4, and 6 both show white majority populations and have significantly lower rates of not finishing HS.\n",
        "\n",
        "Thus Wards 1 and 5, or those neighborhoods and Wards with non-white majority should be the focus for outreach programs and increased funding to encourage more HS completion and post-secondary education attendance."
      ]
    }
  ]
}